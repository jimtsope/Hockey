{
 "cells": [
  {
   "cell_type": "code",
   "execution_count": 1,
   "id": "fc5612d4-28ae-42c2-8c6c-5b3db72de60d",
   "metadata": {},
   "outputs": [],
   "source": [
    "#import libraries\n",
    "import pandas as pd\n",
    "import numpy as np"
   ]
  },
  {
   "cell_type": "code",
   "execution_count": 2,
   "id": "0b385434-7f8a-4a6f-86a9-5af1083d3d22",
   "metadata": {},
   "outputs": [],
   "source": [
    "#read file\n",
    "data = pd.read_csv('ScoringSC.csv')\n"
   ]
  },
  {
   "cell_type": "code",
   "execution_count": 3,
   "id": "b49edd8e-e021-4f9b-9713-c1e275405711",
   "metadata": {},
   "outputs": [
    {
     "data": {
      "text/html": [
       "<div>\n",
       "<style scoped>\n",
       "    .dataframe tbody tr th:only-of-type {\n",
       "        vertical-align: middle;\n",
       "    }\n",
       "\n",
       "    .dataframe tbody tr th {\n",
       "        vertical-align: top;\n",
       "    }\n",
       "\n",
       "    .dataframe thead th {\n",
       "        text-align: right;\n",
       "    }\n",
       "</style>\n",
       "<table border=\"1\" class=\"dataframe\">\n",
       "  <thead>\n",
       "    <tr style=\"text-align: right;\">\n",
       "      <th></th>\n",
       "      <th>playerID</th>\n",
       "      <th>year</th>\n",
       "      <th>tmID</th>\n",
       "      <th>lgID</th>\n",
       "      <th>pos</th>\n",
       "      <th>GP</th>\n",
       "      <th>G</th>\n",
       "      <th>A</th>\n",
       "      <th>Pts</th>\n",
       "      <th>PIM</th>\n",
       "    </tr>\n",
       "  </thead>\n",
       "  <tbody>\n",
       "    <tr>\n",
       "      <th>0</th>\n",
       "      <td>adamsbi01</td>\n",
       "      <td>1920</td>\n",
       "      <td>VML</td>\n",
       "      <td>PCHA</td>\n",
       "      <td>R</td>\n",
       "      <td>4</td>\n",
       "      <td>0</td>\n",
       "      <td>0</td>\n",
       "      <td>0</td>\n",
       "      <td>0</td>\n",
       "    </tr>\n",
       "    <tr>\n",
       "      <th>1</th>\n",
       "      <td>adamsja01</td>\n",
       "      <td>1920</td>\n",
       "      <td>VML</td>\n",
       "      <td>PCHA</td>\n",
       "      <td>C</td>\n",
       "      <td>5</td>\n",
       "      <td>2</td>\n",
       "      <td>1</td>\n",
       "      <td>3</td>\n",
       "      <td>6</td>\n",
       "    </tr>\n",
       "    <tr>\n",
       "      <th>2</th>\n",
       "      <td>adamsja01</td>\n",
       "      <td>1921</td>\n",
       "      <td>VML</td>\n",
       "      <td>PCHA</td>\n",
       "      <td>C</td>\n",
       "      <td>5</td>\n",
       "      <td>6</td>\n",
       "      <td>1</td>\n",
       "      <td>7</td>\n",
       "      <td>18</td>\n",
       "    </tr>\n",
       "    <tr>\n",
       "      <th>3</th>\n",
       "      <td>anderer02</td>\n",
       "      <td>1923</td>\n",
       "      <td>CAT</td>\n",
       "      <td>WCHL</td>\n",
       "      <td>R</td>\n",
       "      <td>2</td>\n",
       "      <td>0</td>\n",
       "      <td>0</td>\n",
       "      <td>0</td>\n",
       "      <td>2</td>\n",
       "    </tr>\n",
       "    <tr>\n",
       "      <th>4</th>\n",
       "      <td>anderjo03</td>\n",
       "      <td>1924</td>\n",
       "      <td>VIC</td>\n",
       "      <td>WCHL</td>\n",
       "      <td>L</td>\n",
       "      <td>4</td>\n",
       "      <td>1</td>\n",
       "      <td>0</td>\n",
       "      <td>1</td>\n",
       "      <td>10</td>\n",
       "    </tr>\n",
       "    <tr>\n",
       "      <th>5</th>\n",
       "      <td>anderjo03</td>\n",
       "      <td>1925</td>\n",
       "      <td>VIC</td>\n",
       "      <td>WCHL</td>\n",
       "      <td>L</td>\n",
       "      <td>1</td>\n",
       "      <td>0</td>\n",
       "      <td>0</td>\n",
       "      <td>0</td>\n",
       "      <td>0</td>\n",
       "    </tr>\n",
       "    <tr>\n",
       "      <th>6</th>\n",
       "      <td>andrell01</td>\n",
       "      <td>1921</td>\n",
       "      <td>TRS</td>\n",
       "      <td>NHL</td>\n",
       "      <td>F</td>\n",
       "      <td>5</td>\n",
       "      <td>2</td>\n",
       "      <td>0</td>\n",
       "      <td>2</td>\n",
       "      <td>3</td>\n",
       "    </tr>\n",
       "    <tr>\n",
       "      <th>7</th>\n",
       "      <td>arbouam01</td>\n",
       "      <td>1915</td>\n",
       "      <td>MOC</td>\n",
       "      <td>NHA</td>\n",
       "      <td>L</td>\n",
       "      <td>4</td>\n",
       "      <td>3</td>\n",
       "      <td>0</td>\n",
       "      <td>3</td>\n",
       "      <td>8</td>\n",
       "    </tr>\n",
       "    <tr>\n",
       "      <th>8</th>\n",
       "      <td>arbouty01</td>\n",
       "      <td>1922</td>\n",
       "      <td>EDE</td>\n",
       "      <td>WCHL</td>\n",
       "      <td>L</td>\n",
       "      <td>2</td>\n",
       "      <td>0</td>\n",
       "      <td>0</td>\n",
       "      <td>0</td>\n",
       "      <td>0</td>\n",
       "    </tr>\n",
       "    <tr>\n",
       "      <th>9</th>\n",
       "      <td>barboal01</td>\n",
       "      <td>1915</td>\n",
       "      <td>PO1</td>\n",
       "      <td>PCHA</td>\n",
       "      <td>C</td>\n",
       "      <td>5</td>\n",
       "      <td>0</td>\n",
       "      <td>0</td>\n",
       "      <td>0</td>\n",
       "      <td>0</td>\n",
       "    </tr>\n",
       "  </tbody>\n",
       "</table>\n",
       "</div>"
      ],
      "text/plain": [
       "    playerID  year tmID  lgID pos  GP  G  A  Pts  PIM\n",
       "0  adamsbi01  1920  VML  PCHA   R   4  0  0    0    0\n",
       "1  adamsja01  1920  VML  PCHA   C   5  2  1    3    6\n",
       "2  adamsja01  1921  VML  PCHA   C   5  6  1    7   18\n",
       "3  anderer02  1923  CAT  WCHL   R   2  0  0    0    2\n",
       "4  anderjo03  1924  VIC  WCHL   L   4  1  0    1   10\n",
       "5  anderjo03  1925  VIC  WCHL   L   1  0  0    0    0\n",
       "6  andrell01  1921  TRS   NHL   F   5  2  0    2    3\n",
       "7  arbouam01  1915  MOC   NHA   L   4  3  0    3    8\n",
       "8  arbouty01  1922  EDE  WCHL   L   2  0  0    0    0\n",
       "9  barboal01  1915  PO1  PCHA   C   5  0  0    0    0"
      ]
     },
     "execution_count": 3,
     "metadata": {},
     "output_type": "execute_result"
    }
   ],
   "source": [
    "#quick view of \n",
    "data.head(10)"
   ]
  },
  {
   "cell_type": "code",
   "execution_count": 4,
   "id": "032e27b5-5293-4a36-af6c-9b27e98017fe",
   "metadata": {},
   "outputs": [
    {
     "data": {
      "text/plain": [
       "playerID    0\n",
       "year        0\n",
       "tmID        0\n",
       "lgID        0\n",
       "pos         0\n",
       "GP          0\n",
       "G           0\n",
       "A           0\n",
       "Pts         0\n",
       "PIM         0\n",
       "dtype: int64"
      ]
     },
     "execution_count": 4,
     "metadata": {},
     "output_type": "execute_result"
    }
   ],
   "source": [
    "#check for missing values\n",
    "missing_values_count = data.isnull().sum()\n",
    "missing_values_count[:]"
   ]
  },
  {
   "cell_type": "code",
   "execution_count": 5,
   "id": "34733e58-d43e-48fa-bae3-98afe1cfde65",
   "metadata": {},
   "outputs": [
    {
     "name": "stdout",
     "output_type": "stream",
     "text": [
      "Goals per Player\n",
      "playerID\n",
      "foystfr01    25\n",
      "taylocy01    16\n",
      "morribe01    14\n",
      "skinnal01    13\n",
      "darraja01    13\n",
      "             ..\n",
      "holmeha01     0\n",
      "helmaha01     0\n",
      "headlfe01     0\n",
      "halljo01      0\n",
      "winklha01     0\n",
      "Name: G, Length: 141, dtype: int64\n"
     ]
    }
   ],
   "source": [
    "#Goals per Player\n",
    "data1 = data.groupby('playerID')['G'].sum()\n",
    "\n",
    "# Sort the result in descending order\n",
    "sorted_data1 = data1.sort_values(ascending=False)\n",
    "\n",
    "print('Goals per Player')\n",
    "print(sorted_data1)"
   ]
  },
  {
   "cell_type": "code",
   "execution_count": 6,
   "id": "0eabba8f-695e-4297-a26c-e4e673a502b5",
   "metadata": {},
   "outputs": [
    {
     "name": "stdout",
     "output_type": "stream",
     "text": [
      "Assist per Player\n",
      "playerID\n",
      "nighbfr01    9\n",
      "mackami01    8\n",
      "walkeja01    7\n",
      "mummeha01    6\n",
      "wilsocu01    5\n",
      "            ..\n",
      "griffsi01    0\n",
      "grahale01    0\n",
      "gengebo01    0\n",
      "gardihe01    0\n",
      "winklha01    0\n",
      "Name: A, Length: 141, dtype: int64\n"
     ]
    }
   ],
   "source": [
    "#Assist per Player'\n",
    "data2 = data.groupby('playerID')['A'].sum()\n",
    "\n",
    "# Sort the result in descending order\n",
    "sorted_data2 = data2.sort_values(ascending=False)\n",
    "\n",
    "print('Assist per Player')\n",
    "print(sorted_data2)\n"
   ]
  },
  {
   "cell_type": "code",
   "execution_count": 7,
   "id": "4f4de136-763c-41b1-9f37-6e2886c6ca37",
   "metadata": {},
   "outputs": [
    {
     "name": "stdout",
     "output_type": "stream",
     "text": [
      "Goals per Team\n",
      "tmID\n",
      "VML    68\n",
      "SEA    52\n",
      "OTS    40\n",
      "MTL    32\n",
      "MOC    26\n",
      "VA1    23\n",
      "VIC    19\n",
      "TOA    18\n",
      "TRS    16\n",
      "PO1    13\n",
      "TBS    13\n",
      "QU1    12\n",
      "VAM    10\n",
      "MTM    10\n",
      "OT1     8\n",
      "EDE     1\n",
      "CAT     1\n",
      "Name: G, dtype: int64\n"
     ]
    }
   ],
   "source": [
    "#Goals per Team\n",
    "data3 = data.groupby('tmID')['G'].sum()\n",
    "\n",
    "# Sort the result in descending order\n",
    "sorted_data3 = data3.sort_values(ascending=False)\n",
    "\n",
    "print('Goals per Team')\n",
    "print(sorted_data3)"
   ]
  },
  {
   "cell_type": "code",
   "execution_count": 8,
   "id": "663677df-ee17-4a28-9652-292b8ed37153",
   "metadata": {},
   "outputs": [
    {
     "name": "stdout",
     "output_type": "stream",
     "text": [
      "Goals per Position\n",
      "pos\n",
      "R      95\n",
      "C      92\n",
      "L      76\n",
      "D      69\n",
      "R/L    17\n",
      "L/C     6\n",
      "F       5\n",
      "D/R     1\n",
      "R/D     1\n",
      "G       0\n",
      "R/C     0\n",
      "Name: G, dtype: int64\n"
     ]
    }
   ],
   "source": [
    "#Goals per Position\n",
    "data4 = data.groupby('pos')['G'].sum()\n",
    "\n",
    "# Sort the result in descending order\n",
    "sorted_data4 = data4.sort_values(ascending=False)\n",
    "\n",
    "print('Goals per Position')\n",
    "print(sorted_data4)"
   ]
  },
  {
   "cell_type": "code",
   "execution_count": 9,
   "id": "ac368192-5687-46ad-b8b9-88f7a92bd17f",
   "metadata": {},
   "outputs": [
    {
     "name": "stdout",
     "output_type": "stream",
     "text": [
      "PIM per Player\n",
      "playerID\n",
      "gerared01    65\n",
      "cookll01     55\n",
      "lalonne01    52\n",
      "coutubi01    46\n",
      "broadpu01    44\n",
      "             ..\n",
      "moranpa01     0\n",
      "morrijo01     0\n",
      "murrato01     0\n",
      "nichosi01     0\n",
      "winklha01     0\n",
      "Name: PIM, Length: 141, dtype: int64\n"
     ]
    }
   ],
   "source": [
    "#PIM\n",
    "data5 = data.groupby('playerID')['PIM'].sum()\n",
    "\n",
    "# Sort the result in descending order\n",
    "sorted_data5 = data5.sort_values(ascending=False)\n",
    "\n",
    "print('PIM per Player')\n",
    "print(sorted_data5)"
   ]
  }
 ],
 "metadata": {
  "kernelspec": {
   "display_name": "Python 3 (ipykernel)",
   "language": "python",
   "name": "python3"
  },
  "language_info": {
   "codemirror_mode": {
    "name": "ipython",
    "version": 3
   },
   "file_extension": ".py",
   "mimetype": "text/x-python",
   "name": "python",
   "nbconvert_exporter": "python",
   "pygments_lexer": "ipython3",
   "version": "3.11.7"
  }
 },
 "nbformat": 4,
 "nbformat_minor": 5
}
